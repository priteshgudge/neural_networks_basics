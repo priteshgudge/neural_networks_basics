{
 "cells": [
  {
   "cell_type": "code",
   "execution_count": 1,
   "metadata": {
    "collapsed": false
   },
   "outputs": [
    {
     "name": "stdout",
     "output_type": "stream",
     "text": [
      "house_data.csv\tHousing Prices Tensorflow.ipynb\r\n"
     ]
    }
   ],
   "source": [
    "!ls"
   ]
  },
  {
   "cell_type": "code",
   "execution_count": 2,
   "metadata": {
    "collapsed": true
   },
   "outputs": [],
   "source": [
    "import pandas as pd\n",
    "import numpy as np"
   ]
  },
  {
   "cell_type": "markdown",
   "metadata": {},
   "source": [
    "## Basic Analysis"
   ]
  },
  {
   "cell_type": "code",
   "execution_count": null,
   "metadata": {
    "collapsed": true
   },
   "outputs": [],
   "source": []
  },
  {
   "cell_type": "code",
   "execution_count": null,
   "metadata": {
    "collapsed": true
   },
   "outputs": [],
   "source": []
  },
  {
   "cell_type": "code",
   "execution_count": null,
   "metadata": {
    "collapsed": true
   },
   "outputs": [],
   "source": []
  },
  {
   "cell_type": "code",
   "execution_count": 4,
   "metadata": {
    "collapsed": false
   },
   "outputs": [
    {
     "name": "stdout",
     "output_type": "stream",
     "text": [
      "house_data.csv  Housing Prices Tensorflow.ipynb\r\n"
     ]
    }
   ],
   "source": []
  },
  {
   "cell_type": "markdown",
   "metadata": {},
   "source": [
    "## NEURAL network code"
   ]
  },
  {
   "cell_type": "code",
   "execution_count": 126,
   "metadata": {
    "collapsed": true
   },
   "outputs": [],
   "source": [
    "# Solving supervised learning problem\n",
    "import pandas as pd\n",
    "import numpy as np\n",
    "import matplotlib.pyplot as plt\n",
    "%matplotlib inline"
   ]
  },
  {
   "cell_type": "code",
   "execution_count": 127,
   "metadata": {
    "collapsed": true
   },
   "outputs": [],
   "source": [
    "import tensorflow as tf"
   ]
  },
  {
   "cell_type": "code",
   "execution_count": 128,
   "metadata": {
    "collapsed": false
   },
   "outputs": [
    {
     "data": {
      "text/html": [
       "<div>\n",
       "<table border=\"1\" class=\"dataframe\">\n",
       "  <thead>\n",
       "    <tr style=\"text-align: right;\">\n",
       "      <th></th>\n",
       "      <th>area</th>\n",
       "      <th>bathrooms</th>\n",
       "    </tr>\n",
       "  </thead>\n",
       "  <tbody>\n",
       "    <tr>\n",
       "      <th>count</th>\n",
       "      <td>47.000000</td>\n",
       "      <td>47.000000</td>\n",
       "    </tr>\n",
       "    <tr>\n",
       "      <th>mean</th>\n",
       "      <td>2000.680851</td>\n",
       "      <td>3.170213</td>\n",
       "    </tr>\n",
       "    <tr>\n",
       "      <th>std</th>\n",
       "      <td>794.702354</td>\n",
       "      <td>0.760982</td>\n",
       "    </tr>\n",
       "    <tr>\n",
       "      <th>min</th>\n",
       "      <td>852.000000</td>\n",
       "      <td>1.000000</td>\n",
       "    </tr>\n",
       "    <tr>\n",
       "      <th>25%</th>\n",
       "      <td>1432.000000</td>\n",
       "      <td>3.000000</td>\n",
       "    </tr>\n",
       "    <tr>\n",
       "      <th>50%</th>\n",
       "      <td>1888.000000</td>\n",
       "      <td>3.000000</td>\n",
       "    </tr>\n",
       "    <tr>\n",
       "      <th>75%</th>\n",
       "      <td>2269.000000</td>\n",
       "      <td>4.000000</td>\n",
       "    </tr>\n",
       "    <tr>\n",
       "      <th>max</th>\n",
       "      <td>4478.000000</td>\n",
       "      <td>5.000000</td>\n",
       "    </tr>\n",
       "  </tbody>\n",
       "</table>\n",
       "</div>"
      ],
      "text/plain": [
       "              area  bathrooms\n",
       "count    47.000000  47.000000\n",
       "mean   2000.680851   3.170213\n",
       "std     794.702354   0.760982\n",
       "min     852.000000   1.000000\n",
       "25%    1432.000000   3.000000\n",
       "50%    1888.000000   3.000000\n",
       "75%    2269.000000   4.000000\n",
       "max    4478.000000   5.000000"
      ]
     },
     "execution_count": 128,
     "metadata": {},
     "output_type": "execute_result"
    }
   ],
   "source": [
    "#Step 1: Load Data & remove features we dont care about\n",
    "df = pd.read_csv('house_data.csv').drop(['index','price','sq_price'], axis=1)\n",
    "df.describe()"
   ]
  },
  {
   "cell_type": "code",
   "execution_count": 14,
   "metadata": {
    "collapsed": false
   },
   "outputs": [
    {
     "name": "stdout",
     "output_type": "stream",
     "text": [
      "<class 'pandas.core.frame.DataFrame'>\n",
      "RangeIndex: 47 entries, 0 to 46\n",
      "Data columns (total 5 columns):\n",
      "index        47 non-null int64\n",
      "area         47 non-null float64\n",
      "bathrooms    47 non-null float64\n",
      "price        47 non-null float64\n",
      "sq_price     47 non-null float64\n",
      "dtypes: float64(4), int64(1)\n",
      "memory usage: 1.9 KB\n"
     ]
    }
   ],
   "source": [
    "df.info()"
   ]
  },
  {
   "cell_type": "code",
   "execution_count": 22,
   "metadata": {
    "collapsed": false
   },
   "outputs": [
    {
     "data": {
      "text/html": [
       "<div>\n",
       "<table border=\"1\" class=\"dataframe\">\n",
       "  <thead>\n",
       "    <tr style=\"text-align: right;\">\n",
       "      <th></th>\n",
       "      <th>area</th>\n",
       "      <th>bathrooms</th>\n",
       "    </tr>\n",
       "  </thead>\n",
       "  <tbody>\n",
       "    <tr>\n",
       "      <th>0</th>\n",
       "      <td>2104.0</td>\n",
       "      <td>3.0</td>\n",
       "    </tr>\n",
       "    <tr>\n",
       "      <th>1</th>\n",
       "      <td>1600.0</td>\n",
       "      <td>3.0</td>\n",
       "    </tr>\n",
       "    <tr>\n",
       "      <th>2</th>\n",
       "      <td>2400.0</td>\n",
       "      <td>3.0</td>\n",
       "    </tr>\n",
       "    <tr>\n",
       "      <th>3</th>\n",
       "      <td>1416.0</td>\n",
       "      <td>2.0</td>\n",
       "    </tr>\n",
       "    <tr>\n",
       "      <th>4</th>\n",
       "      <td>3000.0</td>\n",
       "      <td>4.0</td>\n",
       "    </tr>\n",
       "  </tbody>\n",
       "</table>\n",
       "</div>"
      ],
      "text/plain": [
       "     area  bathrooms\n",
       "0  2104.0        3.0\n",
       "1  1600.0        3.0\n",
       "2  2400.0        3.0\n",
       "3  1416.0        2.0\n",
       "4  3000.0        4.0"
      ]
     },
     "execution_count": 22,
     "metadata": {},
     "output_type": "execute_result"
    }
   ],
   "source": [
    "df.head()"
   ]
  },
  {
   "cell_type": "code",
   "execution_count": 20,
   "metadata": {
    "collapsed": true
   },
   "outputs": [],
   "source": [
    "#First running for 10 rows\n",
    "dataframe = df.head(10)"
   ]
  },
  {
   "cell_type": "code",
   "execution_count": 129,
   "metadata": {
    "collapsed": false
   },
   "outputs": [],
   "source": [
    "# Step 2: Add labels\n",
    "dataframe['buy'] = [1,1,1,0,0,1,0,1,1,1]"
   ]
  },
  {
   "cell_type": "code",
   "execution_count": 130,
   "metadata": {
    "collapsed": true
   },
   "outputs": [],
   "source": [
    "dataframe['notbuy'] = dataframe['buy'] == 0"
   ]
  },
  {
   "cell_type": "code",
   "execution_count": 131,
   "metadata": {
    "collapsed": false
   },
   "outputs": [
    {
     "data": {
      "text/html": [
       "<div>\n",
       "<table border=\"1\" class=\"dataframe\">\n",
       "  <thead>\n",
       "    <tr style=\"text-align: right;\">\n",
       "      <th></th>\n",
       "      <th>area</th>\n",
       "      <th>bathrooms</th>\n",
       "      <th>buy</th>\n",
       "      <th>notbuy</th>\n",
       "    </tr>\n",
       "  </thead>\n",
       "  <tbody>\n",
       "    <tr>\n",
       "      <th>0</th>\n",
       "      <td>2104.0</td>\n",
       "      <td>3.0</td>\n",
       "      <td>1</td>\n",
       "      <td>False</td>\n",
       "    </tr>\n",
       "    <tr>\n",
       "      <th>1</th>\n",
       "      <td>1600.0</td>\n",
       "      <td>3.0</td>\n",
       "      <td>1</td>\n",
       "      <td>False</td>\n",
       "    </tr>\n",
       "    <tr>\n",
       "      <th>2</th>\n",
       "      <td>2400.0</td>\n",
       "      <td>3.0</td>\n",
       "      <td>1</td>\n",
       "      <td>False</td>\n",
       "    </tr>\n",
       "    <tr>\n",
       "      <th>3</th>\n",
       "      <td>1416.0</td>\n",
       "      <td>2.0</td>\n",
       "      <td>0</td>\n",
       "      <td>True</td>\n",
       "    </tr>\n",
       "    <tr>\n",
       "      <th>4</th>\n",
       "      <td>3000.0</td>\n",
       "      <td>4.0</td>\n",
       "      <td>0</td>\n",
       "      <td>True</td>\n",
       "    </tr>\n",
       "  </tbody>\n",
       "</table>\n",
       "</div>"
      ],
      "text/plain": [
       "     area  bathrooms  buy notbuy\n",
       "0  2104.0        3.0    1  False\n",
       "1  1600.0        3.0    1  False\n",
       "2  2400.0        3.0    1  False\n",
       "3  1416.0        2.0    0   True\n",
       "4  3000.0        4.0    0   True"
      ]
     },
     "execution_count": 131,
     "metadata": {},
     "output_type": "execute_result"
    }
   ],
   "source": [
    "dataframe.head()"
   ]
  },
  {
   "cell_type": "code",
   "execution_count": 27,
   "metadata": {
    "collapsed": true
   },
   "outputs": [],
   "source": [
    "# Turn True False to 1/0\n",
    "dataframe['notbuy'] = dataframe['notbuy'].astype(int)"
   ]
  },
  {
   "cell_type": "code",
   "execution_count": 28,
   "metadata": {
    "collapsed": false
   },
   "outputs": [
    {
     "data": {
      "text/html": [
       "<div>\n",
       "<table border=\"1\" class=\"dataframe\">\n",
       "  <thead>\n",
       "    <tr style=\"text-align: right;\">\n",
       "      <th></th>\n",
       "      <th>area</th>\n",
       "      <th>bathrooms</th>\n",
       "      <th>buy</th>\n",
       "      <th>notbuy</th>\n",
       "    </tr>\n",
       "  </thead>\n",
       "  <tbody>\n",
       "    <tr>\n",
       "      <th>0</th>\n",
       "      <td>2104.0</td>\n",
       "      <td>3.0</td>\n",
       "      <td>1</td>\n",
       "      <td>0</td>\n",
       "    </tr>\n",
       "    <tr>\n",
       "      <th>1</th>\n",
       "      <td>1600.0</td>\n",
       "      <td>3.0</td>\n",
       "      <td>1</td>\n",
       "      <td>0</td>\n",
       "    </tr>\n",
       "    <tr>\n",
       "      <th>2</th>\n",
       "      <td>2400.0</td>\n",
       "      <td>3.0</td>\n",
       "      <td>1</td>\n",
       "      <td>0</td>\n",
       "    </tr>\n",
       "    <tr>\n",
       "      <th>3</th>\n",
       "      <td>1416.0</td>\n",
       "      <td>2.0</td>\n",
       "      <td>0</td>\n",
       "      <td>1</td>\n",
       "    </tr>\n",
       "    <tr>\n",
       "      <th>4</th>\n",
       "      <td>3000.0</td>\n",
       "      <td>4.0</td>\n",
       "      <td>0</td>\n",
       "      <td>1</td>\n",
       "    </tr>\n",
       "  </tbody>\n",
       "</table>\n",
       "</div>"
      ],
      "text/plain": [
       "     area  bathrooms  buy  notbuy\n",
       "0  2104.0        3.0    1       0\n",
       "1  1600.0        3.0    1       0\n",
       "2  2400.0        3.0    1       0\n",
       "3  1416.0        2.0    0       1\n",
       "4  3000.0        4.0    0       1"
      ]
     },
     "execution_count": 28,
     "metadata": {},
     "output_type": "execute_result"
    }
   ],
   "source": [
    "dataframe.head()"
   ]
  },
  {
   "cell_type": "code",
   "execution_count": 132,
   "metadata": {
    "collapsed": false
   },
   "outputs": [],
   "source": [
    "# Step3 -- Prepare Data for Tensorflow\n",
    "# To tensors --> generic version of tensors and matrices\n",
    "# Vectors is a list of numbers: 1 D tensor\n",
    "# Matrix is a list of list of numbers: 2 d tensor\n",
    "inputX = dataframe.loc[:,['area','bathrooms']].as_matrix()\n",
    "inputX = dataframe[['area','bathrooms']].as_matrix()"
   ]
  },
  {
   "cell_type": "code",
   "execution_count": 133,
   "metadata": {
    "collapsed": false
   },
   "outputs": [
    {
     "data": {
      "text/plain": [
       "array([[  2.10400000e+03,   3.00000000e+00],\n",
       "       [  1.60000000e+03,   3.00000000e+00],\n",
       "       [  2.40000000e+03,   3.00000000e+00],\n",
       "       [  1.41600000e+03,   2.00000000e+00],\n",
       "       [  3.00000000e+03,   4.00000000e+00],\n",
       "       [  1.98500000e+03,   4.00000000e+00],\n",
       "       [  1.53400000e+03,   3.00000000e+00],\n",
       "       [  1.42700000e+03,   3.00000000e+00],\n",
       "       [  1.38000000e+03,   3.00000000e+00],\n",
       "       [  1.49400000e+03,   3.00000000e+00]])"
      ]
     },
     "execution_count": 133,
     "metadata": {},
     "output_type": "execute_result"
    }
   ],
   "source": [
    "inputX"
   ]
  },
  {
   "cell_type": "code",
   "execution_count": 37,
   "metadata": {
    "collapsed": true
   },
   "outputs": [],
   "source": [
    "inputY = dataframe[['buy','notbuy']].as_matrix()"
   ]
  },
  {
   "cell_type": "code",
   "execution_count": 134,
   "metadata": {
    "collapsed": false,
    "scrolled": true
   },
   "outputs": [
    {
     "data": {
      "text/plain": [
       "array([[1, 0],\n",
       "       [1, 0],\n",
       "       [1, 0],\n",
       "       [0, 1],\n",
       "       [0, 1],\n",
       "       [1, 0],\n",
       "       [0, 1],\n",
       "       [1, 0],\n",
       "       [1, 0],\n",
       "       [1, 0]])"
      ]
     },
     "execution_count": 134,
     "metadata": {},
     "output_type": "execute_result"
    }
   ],
   "source": [
    "inputY"
   ]
  },
  {
   "cell_type": "code",
   "execution_count": 148,
   "metadata": {
    "collapsed": true
   },
   "outputs": [],
   "source": [
    "# Step 4 -- Write out hyperparameters\n",
    "learning_rate = 0.00001\n",
    "training_epochs = 100000\n",
    "display_steps = 1000\n",
    "n_samples = inputY.size"
   ]
  },
  {
   "cell_type": "code",
   "execution_count": 137,
   "metadata": {
    "collapsed": false
   },
   "outputs": [],
   "source": [
    "# Step 5 - Create computation graph/neural network\n",
    "# Placeholder for feature input tensors, \n",
    "#none --> any number of examples, \n",
    "#2 --> no of features\n",
    "# Placeholders --> gateways for data in computation graphs\n",
    "x = tf.placeholder(tf.float32,[None,2])\n"
   ]
  },
  {
   "cell_type": "code",
   "execution_count": 138,
   "metadata": {
    "collapsed": false
   },
   "outputs": [
    {
     "name": "stdout",
     "output_type": "stream",
     "text": [
      "Tensor(\"Variable_17/read:0\", shape=(2, 2), dtype=float32)\n"
     ]
    }
   ],
   "source": [
    "#Create Weights \n",
    "# 2x2 float matrix, which is updated during training\n",
    "# Variables --> hold and update parameters\n",
    "W= tf.Variable(tf.zeros([2,2]))\n",
    "print W"
   ]
  },
  {
   "cell_type": "code",
   "execution_count": 139,
   "metadata": {
    "collapsed": false
   },
   "outputs": [],
   "source": [
    "# Add biases --> like b in y = mx + b\n",
    "b = tf.Variable(tf.zeros([2]))"
   ]
  },
  {
   "cell_type": "code",
   "execution_count": 140,
   "metadata": {
    "collapsed": false
   },
   "outputs": [],
   "source": [
    "# Multiply our weights by our inputs \n",
    "# WX + b = Y\n",
    "y_values = tf.add(tf.matmul(x,W),b)"
   ]
  },
  {
   "cell_type": "code",
   "execution_count": 141,
   "metadata": {
    "collapsed": false
   },
   "outputs": [],
   "source": [
    "# APply Softmax to values\n",
    "# Softmax is our activation function\n",
    "# IS a probably functoin\n",
    "y = tf.nn.softmax(y_values)\n",
    "\n",
    "# Feed in a matrix of labels\n",
    "y_ = tf.placeholder(tf.float32, [None,2])\n",
    "\n"
   ]
  },
  {
   "cell_type": "code",
   "execution_count": 142,
   "metadata": {
    "collapsed": false
   },
   "outputs": [],
   "source": [
    "# Step 6: Perform training\n",
    "# Create cost fun.. mean squared error\n",
    "# Reduce sum.. sum of elements across dimensions\n",
    "cost = tf.reduce_sum(tf.pow(y_ - y,2)/(2*n_samples))\n",
    "\n",
    "# Gradient Descent\n",
    "optimizer = tf.train.GradientDescentOptimizer(\n",
    "learning_rate).minimize(cost)"
   ]
  },
  {
   "cell_type": "code",
   "execution_count": 143,
   "metadata": {
    "collapsed": false
   },
   "outputs": [
    {
     "name": "stdout",
     "output_type": "stream",
     "text": [
      "WARNING:tensorflow:From <ipython-input-143-2b3b0b5ebd75>:2 in <module>.: initialize_all_variables (from tensorflow.python.ops.variables) is deprecated and will be removed after 2017-03-02.\n",
      "Instructions for updating:\n",
      "Use `tf.global_variables_initializer` instead.\n"
     ]
    }
   ],
   "source": [
    "# Initialize variables and session\n",
    "init = tf.initialize_all_variables()\n",
    "sess = tf.Session()\n",
    "sess.run(init)"
   ]
  },
  {
   "cell_type": "code",
   "execution_count": 149,
   "metadata": {
    "collapsed": false
   },
   "outputs": [
    {
     "name": "stdout",
     "output_type": "stream",
     "text": [
      "training step: 0 cost=0.109269\n",
      "training step: 1000 cost=0.109267\n",
      "training step: 2000 cost=0.109266\n",
      "training step: 3000 cost=0.109265\n",
      "training step: 4000 cost=0.109263\n",
      "training step: 5000 cost=0.109262\n",
      "training step: 6000 cost=0.109261\n",
      "training step: 7000 cost=0.109259\n",
      "training step: 8000 cost=0.109258\n",
      "training step: 9000 cost=0.109257\n",
      "training step: 10000 cost=0.109255\n",
      "training step: 11000 cost=0.109254\n",
      "training step: 12000 cost=0.109253\n",
      "training step: 13000 cost=0.109251\n",
      "training step: 14000 cost=0.109250\n",
      "training step: 15000 cost=0.109249\n",
      "training step: 16000 cost=0.109247\n",
      "training step: 17000 cost=0.109246\n",
      "training step: 18000 cost=0.109245\n",
      "training step: 19000 cost=0.109243\n",
      "training step: 20000 cost=0.109242\n",
      "training step: 21000 cost=0.109241\n",
      "training step: 22000 cost=0.109239\n",
      "training step: 23000 cost=0.109238\n",
      "training step: 24000 cost=0.109237\n",
      "training step: 25000 cost=0.109235\n",
      "training step: 26000 cost=0.109234\n",
      "training step: 27000 cost=0.109232\n",
      "training step: 28000 cost=0.109231\n",
      "training step: 29000 cost=0.109230\n",
      "training step: 30000 cost=0.109228\n",
      "training step: 31000 cost=0.109227\n",
      "training step: 32000 cost=0.109226\n",
      "training step: 33000 cost=0.109224\n",
      "training step: 34000 cost=0.109223\n",
      "training step: 35000 cost=0.109222\n",
      "training step: 36000 cost=0.109220\n",
      "training step: 37000 cost=0.109219\n",
      "training step: 38000 cost=0.109218\n",
      "training step: 39000 cost=0.109216\n",
      "training step: 40000 cost=0.109215\n",
      "training step: 41000 cost=0.109214\n",
      "training step: 42000 cost=0.109212\n",
      "training step: 43000 cost=0.109211\n",
      "training step: 44000 cost=0.109210\n",
      "training step: 45000 cost=0.109208\n",
      "training step: 46000 cost=0.109207\n",
      "training step: 47000 cost=0.109206\n",
      "training step: 48000 cost=0.109204\n",
      "training step: 49000 cost=0.109203\n",
      "training step: 50000 cost=0.109202\n",
      "training step: 51000 cost=0.109200\n",
      "training step: 52000 cost=0.109199\n",
      "training step: 53000 cost=0.109198\n",
      "training step: 54000 cost=0.109196\n",
      "training step: 55000 cost=0.109195\n",
      "training step: 56000 cost=0.109194\n",
      "training step: 57000 cost=0.109192\n",
      "training step: 58000 cost=0.109191\n",
      "training step: 59000 cost=0.109190\n",
      "training step: 60000 cost=0.109188\n",
      "training step: 61000 cost=0.109187\n",
      "training step: 62000 cost=0.109185\n",
      "training step: 63000 cost=0.109184\n",
      "training step: 64000 cost=0.109183\n",
      "training step: 65000 cost=0.109181\n",
      "training step: 66000 cost=0.109180\n",
      "training step: 67000 cost=0.109179\n",
      "training step: 68000 cost=0.109177\n",
      "training step: 69000 cost=0.109176\n",
      "training step: 70000 cost=0.109175\n",
      "training step: 71000 cost=0.109173\n",
      "training step: 72000 cost=0.109172\n",
      "training step: 73000 cost=0.109171\n",
      "training step: 74000 cost=0.109169\n",
      "training step: 75000 cost=0.109168\n",
      "training step: 76000 cost=0.109167\n",
      "training step: 77000 cost=0.109165\n",
      "training step: 78000 cost=0.109164\n",
      "training step: 79000 cost=0.109163\n",
      "training step: 80000 cost=0.109161\n",
      "training step: 81000 cost=0.109160\n",
      "training step: 82000 cost=0.109159\n",
      "training step: 83000 cost=0.109157\n",
      "training step: 84000 cost=0.109156\n",
      "training step: 85000 cost=0.109155\n",
      "training step: 86000 cost=0.109153\n",
      "training step: 87000 cost=0.109152\n",
      "training step: 88000 cost=0.109151\n",
      "training step: 89000 cost=0.109149\n",
      "training step: 90000 cost=0.109148\n",
      "training step: 91000 cost=0.109147\n",
      "training step: 92000 cost=0.109145\n",
      "training step: 93000 cost=0.109144\n",
      "training step: 94000 cost=0.109143\n",
      "training step: 95000 cost=0.109141\n",
      "training step: 96000 cost=0.109140\n",
      "training step: 97000 cost=0.109139\n",
      "training step: 98000 cost=0.109137\n",
      "training step: 99000 cost=0.109136\n",
      "optimization finished\n",
      "Training COst 0.109134 \n",
      "W= [[ 0.00019897 -0.00019893]\n",
      " [ 0.00758225 -0.00758225]] \n",
      "b= [ 0.00177346 -0.00177346]\n"
     ]
    }
   ],
   "source": [
    "# Training Loop\n",
    "for i in range(training_epochs):\n",
    "    sess.run(optimizer, feed_dict={x:inputX,y_:inputY})\n",
    "    \n",
    "    # Write out training logs\n",
    "    if i% display_steps == 0:\n",
    "        cc = sess.run(cost, feed_dict={x:inputX,y_:inputY})\n",
    "        print 'training step: %d'%i, \"cost=%f\"%cc\n",
    "        \n",
    "print \"optimization finished\"\n",
    "training_cost = sess.run(cost, feed_dict = {x:inputX,y_:inputY})\n",
    "print \"Training COst\", training_cost, \"\\nW=\", sess.run(W), '\\nb=', sess.run(b)"
   ]
  },
  {
   "cell_type": "code",
   "execution_count": 150,
   "metadata": {
    "collapsed": false
   },
   "outputs": [
    {
     "data": {
      "text/plain": [
       "array([[ 0.70811123,  0.29188871],\n",
       "       [ 0.66500646,  0.3349936 ],\n",
       "       [ 0.73184586,  0.26815417],\n",
       "       [ 0.64503986,  0.35496008],\n",
       "       [ 0.77866679,  0.22133318],\n",
       "       [ 0.70141441,  0.2985855 ],\n",
       "       [ 0.65913093,  0.34086907],\n",
       "       [ 0.64950138,  0.35049865],\n",
       "       [ 0.6452322 ,  0.35476783],\n",
       "       [ 0.65554589,  0.34445405]], dtype=float32)"
      ]
     },
     "execution_count": 150,
     "metadata": {},
     "output_type": "execute_result"
    }
   ],
   "source": [
    "sess.run(y, feed_dict={x:inputX})"
   ]
  },
  {
   "cell_type": "code",
   "execution_count": 151,
   "metadata": {
    "collapsed": false
   },
   "outputs": [
    {
     "data": {
      "text/plain": [
       "array([ 0.0320586 ,  0.08714432,  0.23688281,  0.64391422], dtype=float32)"
      ]
     },
     "execution_count": 151,
     "metadata": {},
     "output_type": "execute_result"
    }
   ],
   "source": [
    "sess.run(tf.nn.softmax([1.,2.,3.,4]))\n",
    "# How to improve # Add a hidden layer\n",
    "\n"
   ]
  },
  {
   "cell_type": "code",
   "execution_count": null,
   "metadata": {
    "collapsed": true
   },
   "outputs": [],
   "source": []
  }
 ],
 "metadata": {
  "anaconda-cloud": {},
  "kernelspec": {
   "display_name": "Python [conda root]",
   "language": "python",
   "name": "conda-root-py"
  },
  "language_info": {
   "codemirror_mode": {
    "name": "ipython",
    "version": 2
   },
   "file_extension": ".py",
   "mimetype": "text/x-python",
   "name": "python",
   "nbconvert_exporter": "python",
   "pygments_lexer": "ipython2",
   "version": "2.7.12"
  }
 },
 "nbformat": 4,
 "nbformat_minor": 1
}
